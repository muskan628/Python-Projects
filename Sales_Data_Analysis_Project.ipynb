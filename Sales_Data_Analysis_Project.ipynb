{
  "nbformat": 4,
  "nbformat_minor": 0,
  "metadata": {
    "colab": {
      "provenance": [],
      "authorship_tag": "ABX9TyMVXBB5EKE+wZaeVv7gzCDL",
      "include_colab_link": true
    },
    "kernelspec": {
      "name": "python3",
      "display_name": "Python 3"
    },
    "language_info": {
      "name": "python"
    }
  },
  "cells": [
    {
      "cell_type": "markdown",
      "metadata": {
        "id": "view-in-github",
        "colab_type": "text"
      },
      "source": [
        "<a href=\"https://colab.research.google.com/github/muskan628/Python-Projects/blob/main/Sales_Data_Analysis_Project.ipynb\" target=\"_parent\"><img src=\"https://colab.research.google.com/assets/colab-badge.svg\" alt=\"Open In Colab\"/></a>"
      ]
    },
    {
      "cell_type": "code",
      "execution_count": 9,
      "metadata": {
        "colab": {
          "base_uri": "https://localhost:8080/"
        },
        "id": "UtmIYCNmZ_hS",
        "outputId": "7821e859-1e51-440d-d3c2-e3d4f627cbf5"
      },
      "outputs": [
        {
          "output_type": "stream",
          "name": "stdout",
          "text": [
            "First Five Sales Figures: [1409  329 6305 8957  844 1158  483 3327 2307  834]\n",
            "First Five Product Categories: [6 7 2 5 3 1 4 5 2 8]\n",
            "\n",
            "Total Sales: 25253663\n",
            "Average Sales: 5050.73\n",
            "Maximum Sales: 10000\n",
            "Minimum Sales: 103\n",
            "\n",
            "First Five rows of Combined dataset: \n",
            "[[1409    6]\n",
            " [ 329    7]\n",
            " [6305    2]\n",
            " [8957    5]\n",
            " [ 844    3]]\n",
            "\n",
            "Sales Above Average: 2463\n",
            "Sales below avg 2537\n",
            "\n",
            "Sales above 8000: \n",
            "[[8957    5]\n",
            " [9797    9]\n",
            " [9771    1]\n",
            " [9550    2]\n",
            " [9904    2]]\n",
            "\n",
            "Sorted Data: \n",
            "[[  103    10]\n",
            " [  105     4]\n",
            " [  107     1]\n",
            " ...\n",
            " [ 9994     2]\n",
            " [10000    10]\n",
            " [10000    10]]\n",
            "\n",
            "Filtered Data: [[5001    9]\n",
            " [5002    7]\n",
            " [5005    8]\n",
            " [5007   10]\n",
            " [5009    9]]\n"
          ]
        }
      ],
      "source": [
        "import numpy as np\n",
        "\n",
        "#Sales dataset\n",
        "sales_data=np.random.randint(100,10001,size=5000)\n",
        "\n",
        "#Products dataset\n",
        "product_categories=np.random.randint(1,11,size=5000)\n",
        "\n",
        "print(f\"First Five Sales Figures: {sales_data[0:10]}\")\n",
        "print(f\"First Five Product Categories: {product_categories[0:10]}\")\n",
        "\n",
        "#Basic Operations\n",
        "Total_Sales=np.sum(sales_data)\n",
        "average_sales=np.mean(sales_data)\n",
        "max_sales=np.max(sales_data)\n",
        "min_sales=np.min(sales_data)\n",
        "print()\n",
        "\n",
        "print(f\"Total Sales: {Total_Sales}\")\n",
        "print(f\"Average Sales: {average_sales:.2f}\")\n",
        "print(f\"Maximum Sales: {max_sales}\")\n",
        "print(f\"Minimum Sales: {min_sales}\")\n",
        "print()\n",
        "\n",
        "#Combined Dataset\n",
        "combined_data=np.stack((sales_data,product_categories), axis=1)\n",
        "print(f\"First Five rows of Combined dataset: \\n{combined_data[0:5]}\")\n",
        "print()\n",
        "\n",
        "above_avg=combined_data[sales_data>average_sales]\n",
        "below_avg=combined_data[sales_data<average_sales]\n",
        "print(f\"Sales Above Average: {len(above_avg)}\")\n",
        "print(f\"Sales below avg {len(below_avg)}\")\n",
        "print()\n",
        "\n",
        "above_8000=combined_data[sales_data>8000]\n",
        "print(f\"Sales above 8000: \\n{above_8000[:5]}\")\n",
        "print()\n",
        "\n",
        "sorting=combined_data[combined_data[:, 0].argsort()]\n",
        "print(f\"Sorted Data: \\n{sorting}\")\n",
        "print()\n",
        "\n",
        "filtering=sorting[sorting[:, 0] > 5000]\n",
        "print(f\"Filtered Data: {filtering[:5]}\")\n",
        "\n"
      ]
    }
  ]
}