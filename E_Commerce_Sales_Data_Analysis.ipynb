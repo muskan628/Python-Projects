{
  "nbformat": 4,
  "nbformat_minor": 0,
  "metadata": {
    "colab": {
      "provenance": [],
      "authorship_tag": "ABX9TyPOXA/bmHJmF2te6OkqWb+X",
      "include_colab_link": true
    },
    "kernelspec": {
      "name": "python3",
      "display_name": "Python 3"
    },
    "language_info": {
      "name": "python"
    }
  },
  "cells": [
    {
      "cell_type": "markdown",
      "metadata": {
        "id": "view-in-github",
        "colab_type": "text"
      },
      "source": [
        "<a href=\"https://colab.research.google.com/github/muskan628/Python-Projects/blob/main/E_Commerce_Sales_Data_Analysis.ipynb\" target=\"_parent\"><img src=\"https://colab.research.google.com/assets/colab-badge.svg\" alt=\"Open In Colab\"/></a>"
      ]
    },
    {
      "cell_type": "code",
      "execution_count": 31,
      "metadata": {
        "colab": {
          "base_uri": "https://localhost:8080/"
        },
        "id": "BUTr50xtjmS6",
        "outputId": "5fdc7cd1-7d69-45b6-919e-b9cb652f636e"
      },
      "outputs": [
        {
          "output_type": "stream",
          "name": "stdout",
          "text": [
            "Dataset: \n",
            "   Order_ID  Customer_Name         Product        Category  Quantity  \\\n",
            "0       101       John Doe          Laptop     Electronics         2   \n",
            "1       102     Jane Smith      Smartphone     Electronics         1   \n",
            "2       103      Mike Ross  Coffee Machine  Home & Kitchen         3   \n",
            "3       104   Rachel Green         T-Shirt        Clothing         4   \n",
            "4       105  Monica Geller        Lipstick          Beauty         2   \n",
            "\n",
            "   Unit_Price  Shipping_Fee  Total_Sales  \n",
            "0        1200          50.0         2450  \n",
            "1         800          20.0          820  \n",
            "2         200           NaN          600  \n",
            "3          25          10.0          110  \n",
            "4          15           5.0           35  \n",
            "\n",
            "Null values: \n",
            "Order_ID         0\n",
            "Customer_Name    0\n",
            "Product          0\n",
            "Category         0\n",
            "Quantity         0\n",
            "Unit_Price       0\n",
            "Shipping_Fee     1\n",
            "Total_Sales      0\n",
            "dtype: int64\n",
            "\n",
            "Dataset after filling the missing value: \n",
            "   Order_ID  Customer_Name         Product        Category  Quantity  \\\n",
            "0       101       John Doe          Laptop     Electronics         2   \n",
            "1       102     Jane Smith      Smartphone     Electronics         1   \n",
            "2       103      Mike Ross  Coffee Machine  Home & Kitchen         3   \n",
            "3       104   Rachel Green         T-Shirt        Clothing         4   \n",
            "4       105  Monica Geller        Lipstick          Beauty         2   \n",
            "\n",
            "   Unit_Price  Shipping_Fee  Total_Sales  \n",
            "0        1200         50.00         2450  \n",
            "1         800         20.00          820  \n",
            "2         200         21.25          600  \n",
            "3          25         10.00          110  \n",
            "4          15          5.00           35  \n",
            "\n",
            "Total Sales more than $500: \n",
            "   Order_ID Customer_Name         Product        Category  Quantity  \\\n",
            "0       101      John Doe          Laptop     Electronics         2   \n",
            "1       102    Jane Smith      Smartphone     Electronics         1   \n",
            "2       103     Mike Ross  Coffee Machine  Home & Kitchen         3   \n",
            "\n",
            "   Unit_Price  Shipping_Fee  Total_Sales  \n",
            "0        1200         50.00         2450  \n",
            "1         800         20.00          820  \n",
            "2         200         21.25          600  \n",
            "\n",
            "Category Performance according to total sales: \n",
            "Category\n",
            "Electronics       3270\n",
            "Home & Kitchen     600\n",
            "Clothing           110\n",
            "Beauty              35\n",
            "Name: Total_Sales, dtype: int64\n",
            "\n",
            "Average Shipping fee for each category: \n",
            "Category\n",
            "Electronics       35.00\n",
            "Home & Kitchen    21.25\n",
            "Clothing          10.00\n",
            "Beauty             5.00\n",
            "Name: Shipping_Fee, dtype: float64\n",
            "\n",
            "                Total_Sales  Average_Shipping_Fee\n",
            "Category                                         \n",
            "Beauty                   35                  5.00\n",
            "Clothing                110                 10.00\n",
            "Electronics            3270                 35.00\n",
            "Home & Kitchen          600                 21.25\n",
            "\n",
            "Cleaned and summerizied data saved to report.xlsx\n"
          ]
        }
      ],
      "source": [
        "import pandas as pd\n",
        "\n",
        "#Uploading dataset\n",
        "dataset=pd.read_csv(\"sales_data.csv\")\n",
        "print(f\"Dataset: \\n{dataset}\\n\")\n",
        "\n",
        "#checking missing values\n",
        "print(f\"Null values: \\n{dataset.isnull().sum()}\\n\")\n",
        "\n",
        "#filling null value with average\n",
        "dataset[\"Shipping_Fee\"]=dataset[\"Shipping_Fee\"].fillna(dataset[\"Shipping_Fee\"].mean())\n",
        "\n",
        "#after filling the missing value\n",
        "print(f\"Dataset after filling the missing value: \\n{dataset}\\n\")\n",
        "\n",
        "#filtering the dataset\n",
        "print(f\"Total Sales more than $500: \\n{dataset[dataset['Total_Sales']>500]}\\n\")\n",
        "\n",
        "#Produnt Performance Analysis(highest revenve)\n",
        "group_data=dataset.groupby(\"Category\")\n",
        "total_sales=group_data['Total_Sales'].sum()\n",
        "print(f\"Category Performance according to total sales: \\n{total_sales.sort_values(ascending=False)}\\n\")\n",
        "\n",
        "#Logistic and Shipping\n",
        "avg_shipping_fee=group_data['Shipping_Fee'].mean()\n",
        "print(f\"Average Shipping fee for each category: \\n{avg_shipping_fee.sort_values(ascending=False)}\\n\")\n",
        "\n",
        "#Reporting and Satkeholders(save in excel file)\n",
        "report = pd.DataFrame({\n",
        "    \"Total_Sales\": total_sales,\n",
        "    \"Average_Shipping_Fee\": avg_shipping_fee\n",
        "})\n",
        "print(report)\n",
        "\n",
        "report.to_excel(\"report.xlsx\",sheet_name=\"report\")\n",
        "print(\"\\nCleaned and summerizied data saved to report.xlsx\")"
      ]
    }
  ]
}