{
  "cells": [
    {
      "cell_type": "markdown",
      "metadata": {
        "id": "view-in-github",
        "colab_type": "text"
      },
      "source": [
        "<a href=\"https://colab.research.google.com/github/muskan628/Python-Projects/blob/main/odd_even_game.ipynb\" target=\"_parent\"><img src=\"https://colab.research.google.com/assets/colab-badge.svg\" alt=\"Open In Colab\"/></a>"
      ]
    },
    {
      "cell_type": "code",
      "source": [
        "print(\"Welcome to the Odd or Even Number Game!\")\n",
        "name=input(\"Enter your name:\")\n",
        "sum=0\n",
        "import random\n",
        "print(\"Let's begin!\")\n",
        "for i in range(1,6):\n",
        "  a=random.randint(1,100)\n",
        "  guess=input(f\"Is the number {a} odd or even:\").lower()\n",
        "  if a%2==0:\n",
        "    ans=\"even\"\n",
        "  else:\n",
        "    ans=\"odd\"\n",
        "\n",
        "  print(f\"You guessed {guess} and the correct answer is {ans}\")\n",
        "  if guess==ans:\n",
        "    print(\"Congrulations You guessed correct\")\n",
        "    sum=sum+1\n",
        "  else:\n",
        "    print(f\"Oops its wrong\")\n",
        "print(f\"Your score is {sum}\")"
      ],
      "metadata": {
        "id": "JLfrl2AE_ieX",
        "colab": {
          "base_uri": "https://localhost:8080/"
        },
        "outputId": "44cc107c-3e16-4c96-f0af-0a4c57733b36"
      },
      "execution_count": null,
      "outputs": [
        {
          "output_type": "stream",
          "name": "stdout",
          "text": [
            "Welcome to the Odd or Even Number Game!\n",
            "Enter your name:muskan\n",
            "Let's begin!\n",
            "Is the number 51 odd or even:odd\n",
            "You guessed odd and the correct and is odd\n",
            "Congrulations You guessed correct\n",
            "Is the number 56 odd or even:even\n",
            "You guessed even and the correct and is even\n",
            "Congrulations You guessed correct\n",
            "Is the number 54 odd or even:even\n",
            "You guessed even and the correct and is even\n",
            "Congrulations You guessed correct\n",
            "Is the number 17 odd or even:odd\n",
            "You guessed odd and the correct and is odd\n",
            "Congrulations You guessed correct\n",
            "Is the number 56 odd or even:even\n",
            "You guessed even and the correct and is even\n",
            "Congrulations You guessed correct\n",
            "Your score is 5\n"
          ]
        }
      ]
    }
  ],
  "metadata": {
    "colab": {
      "provenance": [],
      "authorship_tag": "ABX9TyP2CUGkUb1iejpjU7gr5+QI",
      "include_colab_link": true
    },
    "kernelspec": {
      "display_name": "Python 3",
      "name": "python3"
    },
    "language_info": {
      "name": "python"
    }
  },
  "nbformat": 4,
  "nbformat_minor": 0
}