{
  "nbformat": 4,
  "nbformat_minor": 0,
  "metadata": {
    "colab": {
      "provenance": [],
      "authorship_tag": "ABX9TyNysNy2M0neVj8aiF8oNZko",
      "include_colab_link": true
    },
    "kernelspec": {
      "name": "python3",
      "display_name": "Python 3"
    },
    "language_info": {
      "name": "python"
    }
  },
  "cells": [
    {
      "cell_type": "markdown",
      "metadata": {
        "id": "view-in-github",
        "colab_type": "text"
      },
      "source": [
        "<a href=\"https://colab.research.google.com/github/muskan628/Python-Projects/blob/main/Data_Type_Identification_Game!.ipynb\" target=\"_parent\"><img src=\"https://colab.research.google.com/assets/colab-badge.svg\" alt=\"Open In Colab\"/></a>"
      ]
    },
    {
      "cell_type": "code",
      "execution_count": 5,
      "metadata": {
        "colab": {
          "base_uri": "https://localhost:8080/"
        },
        "id": "6hNWNAojHhkQ",
        "outputId": "4ebf16c9-6b0f-45a6-f7df-165ec70461bf"
      },
      "outputs": [
        {
          "output_type": "stream",
          "name": "stdout",
          "text": [
            "Welcome to the Data Type Identification Game!\n",
            "Enter Your Name:Muskan\n",
            "Guess the data type of: Hello\n",
            "string\n",
            "You Guessed: string. The correct ans is: string\n",
            "\n",
            "Guess the data type of: 5\n",
            "integer\n",
            "You Guessed: integer. The correct ans is: integer\n",
            "\n",
            "Guess the data type of: 5.6\n",
            "float\n",
            "You Guessed: float. The correct ans is: float\n",
            "\n",
            "Guess the data type of: True\n",
            "boolean\n",
            "You Guessed: boolean. The correct ans is: boolean\n",
            "\n",
            "Guess the data type of: 'True'\n",
            "string\n",
            "You Guessed: string. The correct ans is: string\n",
            "\n",
            "Thank you for playing Type Identification Game!! Muskan\n"
          ]
        }
      ],
      "source": [
        "print(\"Welcome to the Data Type Identification Game!\")\n",
        "name=input(\"Enter Your Name:\")\n",
        "\n",
        "Guess=input(\"Guess the data type of: Hello\\n\")\n",
        "print(f\"You Guessed: {Guess}. The correct ans is: string\\n\")\n",
        "\n",
        "Guess=input(\"Guess the data type of: 5\\n\")\n",
        "print(f\"You Guessed: {Guess}. The correct ans is: integer\\n\")\n",
        "\n",
        "Guess=input(\"Guess the data type of: 5.6\\n\")\n",
        "print(f\"You Guessed: {Guess}. The correct ans is: float\\n\")\n",
        "\n",
        "Guess=input(\"Guess the data type of: True\\n\")\n",
        "print(f\"You Guessed: {Guess}. The correct ans is: boolean\\n\")\n",
        "\n",
        "Guess=input(\"Guess the data type of: 'True'\\n\")\n",
        "print(f\"You Guessed: {Guess}. The correct ans is: string\\n\")\n",
        "\n",
        "print(f\"Thank you for playing Type Identification Game!! {name}\")"
      ]
    }
  ]
}