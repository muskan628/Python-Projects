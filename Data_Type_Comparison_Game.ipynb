{
  "nbformat": 4,
  "nbformat_minor": 0,
  "metadata": {
    "colab": {
      "provenance": [],
      "authorship_tag": "ABX9TyOj8BypMVLmJl2Fl4MPOCHR",
      "include_colab_link": true
    },
    "kernelspec": {
      "name": "python3",
      "display_name": "Python 3"
    },
    "language_info": {
      "name": "python"
    }
  },
  "cells": [
    {
      "cell_type": "markdown",
      "metadata": {
        "id": "view-in-github",
        "colab_type": "text"
      },
      "source": [
        "<a href=\"https://colab.research.google.com/github/muskan628/Python-Projects/blob/main/Data_Type_Comparison_Game.ipynb\" target=\"_parent\"><img src=\"https://colab.research.google.com/assets/colab-badge.svg\" alt=\"Open In Colab\"/></a>"
      ]
    },
    {
      "cell_type": "code",
      "execution_count": null,
      "metadata": {
        "colab": {
          "base_uri": "https://localhost:8080/"
        },
        "id": "7qy0RBfuY3x-",
        "outputId": "e1307e47-c978-4ef9-f374-3995b87c32f5"
      },
      "outputs": [
        {
          "output_type": "stream",
          "name": "stdout",
          "text": [
            "Welcome to data type comparison game!\n",
            "Enter your name:muskan\n",
            "Are the values 42 and 3.14 of the same type?\n",
            "Enter your guess:no\n",
            "You are correct!\n",
            "Are the values hello and world of the same type?\n",
            "Enter your guess:yes\n",
            "You are correct!\n",
            "Are the values True and 42 of the same type?\n",
            "Enter your guess:no\n",
            "You are correct!\n",
            "Are the values 3.14 and 3.14 of the same type?\n",
            "Enter your guess:yes\n",
            "You are correct!\n",
            "Thankyou muskan for playing the game, you have scored 4/4\n"
          ]
        }
      ],
      "source": [
        "print(\"Welcome to data type comparison game!\")\n",
        "user = input (\"Enter your name:\")\n",
        "score = 0\n",
        "\n",
        "value1, value2 = 42, 3.14\n",
        "print(f\"Are the values {value1} and {value2} of the same type?\")\n",
        "guess = input(\"Enter your guess:\")\n",
        "if (type(value1) == type(value2)):\n",
        "  correct_ans = \"yes\"\n",
        "else:\n",
        "  correct_ans = \"no\"\n",
        "\n",
        "if (correct_ans == guess):\n",
        "  score = score + 1\n",
        "  print(\"You are correct!\")\n",
        "else:\n",
        "  print(f\"Wrong! The correct answer is {correct_ans}\")\n",
        "\n",
        "\n",
        "value1, value2 = \"hello\", \"world\"\n",
        "print(f\"Are the values {value1} and {value2} of the same type?\")\n",
        "guess = input(\"Enter your guess:\")\n",
        "if (type(value1) == type(value2)):\n",
        "  correct_ans = \"yes\"\n",
        "else:\n",
        "  correct_ans = \"no\"\n",
        "\n",
        "if (correct_ans == guess):\n",
        "  score = score + 1\n",
        "  print(\"You are correct!\")\n",
        "else:\n",
        "  print(f\"Wrong! The correct answer is {correct_ans}\")\n",
        "\n",
        "value1, value2 = True, 42\n",
        "print(f\"Are the values {value1} and {value2} of the same type?\")\n",
        "guess = input(\"Enter your guess:\")\n",
        "if (type(value1) == type(value2)):\n",
        "  correct_ans = \"yes\"\n",
        "else:\n",
        "  correct_ans = \"no\"\n",
        "\n",
        "if (correct_ans == guess):\n",
        "  score = score + 1\n",
        "  print(\"You are correct!\")\n",
        "else:\n",
        "  print(f\"Wrong! The correct answer is {correct_ans}\")\n",
        "\n",
        "value1, value2 = 3.14, 3.14\n",
        "print(f\"Are the values {value1} and {value2} of the same type?\")\n",
        "guess = input(\"Enter your guess:\")\n",
        "if (type(value1) == type(value2)):\n",
        "  correct_ans = \"yes\"\n",
        "else:\n",
        "  correct_ans = \"no\"\n",
        "\n",
        "if (correct_ans == guess):\n",
        "  score = score + 1\n",
        "  print(\"You are correct!\")\n",
        "else:\n",
        "  print(f\"Wrong! The correct answer is {correct_ans}\")\n",
        "\n",
        "print(f\"Thankyou {user} for playing the game, you have scored {score}/4\")"
      ]
    }
  ]
}