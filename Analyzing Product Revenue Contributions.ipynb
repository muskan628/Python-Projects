{
  "nbformat": 4,
  "nbformat_minor": 0,
  "metadata": {
    "colab": {
      "provenance": [],
      "authorship_tag": "ABX9TyOA4DV0ipDWmLIH/USsaUVO",
      "include_colab_link": true
    },
    "kernelspec": {
      "name": "python3",
      "display_name": "Python 3"
    },
    "language_info": {
      "name": "python"
    }
  },
  "cells": [
    {
      "cell_type": "markdown",
      "metadata": {
        "id": "view-in-github",
        "colab_type": "text"
      },
      "source": [
        "<a href=\"https://colab.research.google.com/github/muskan628/Python-Projects/blob/main/Analyzing%20Product%20Revenue%20Contributions.ipynb\" target=\"_parent\"><img src=\"https://colab.research.google.com/assets/colab-badge.svg\" alt=\"Open In Colab\"/></a>"
      ]
    },
    {
      "cell_type": "code",
      "execution_count": 31,
      "metadata": {
        "colab": {
          "base_uri": "https://localhost:8080/"
        },
        "id": "K_QaLxbXgRVS",
        "outputId": "4d6c547d-bc49-473a-e1d6-58dc416fa8ef"
      },
      "outputs": [
        {
          "output_type": "stream",
          "name": "stdout",
          "text": [
            "Product Revenue: \n",
            "Shoes      50000\n",
            "Shirts     30000\n",
            "Jackets    70000\n",
            "Bags       20000\n",
            "dtype: int64\n",
            "\n",
            "Total Revenue: 170000\n",
            "\n",
            "Percentage: \n",
            "Shoes      29.411765\n",
            "Shirts     17.647059\n",
            "Jackets    41.176471\n",
            "Bags       11.764706\n",
            "dtype: float64 \n",
            "\n",
            "High Revenue: \n",
            "Shoes      50000\n",
            "Jackets    70000\n",
            "dtype: int64\n",
            "\n",
            "Sorted Revenue: \n",
            "Jackets    70000\n",
            "Shoes      50000\n",
            "Shirts     30000\n",
            "Bags       20000\n",
            "dtype: int64\n",
            "\n",
            "Discount: \n",
            "Shoes      45000.0\n",
            "Shirts     27000.0\n",
            "Jackets    63000.0\n",
            "Bags       18000.0\n",
            "dtype: float64\n",
            "\n",
            "Revenue Dataframe: \n",
            "         Revenue  Discount  Percentage\n",
            "Shoes      50000   45000.0   29.411765\n",
            "Shirts     30000   27000.0   17.647059\n",
            "Jackets    70000   63000.0   41.176471\n",
            "Bags       20000   18000.0   11.764706\n"
          ]
        }
      ],
      "source": [
        "import pandas as pd\n",
        "revenue=pd.Series([50000,30000,70000,20000],index=[\"Shoes\",\"Shirts\",\"Jackets\",\"Bags\"])\n",
        "print(f\"Product Revenue: \\n{revenue}\\n\")\n",
        "\n",
        "#total revenue\n",
        "total_revenue=revenue.sum()\n",
        "print(f\"Total Revenue: {total_revenue}\\n\")\n",
        "\n",
        "#percentage of each product\n",
        "percentage=revenue/total_revenue*100\n",
        "print(f\"Percentage: \\n{percentage} \\n\")\n",
        "\n",
        "#products whose revenue is more than 25%\n",
        "high_revenue=revenue[percentage>25]\n",
        "print(f\"High Revenue: \\n{high_revenue}\\n\")\n",
        "\n",
        "#decending order\n",
        "sort_revenue=revenue.sort_values(ascending=False)\n",
        "print(f\"Sorted Revenue: \\n{sort_revenue}\\n\")\n",
        "\n",
        "#appling 10% discount\n",
        "discount=revenue.apply(lambda x:x*0.9)\n",
        "print(f\"Discount: \\n{discount}\\n\")\n",
        "\n",
        "#Dataframe\n",
        "df = pd.DataFrame({\n",
        "    \"Revenue\": revenue,\n",
        "    \"Discount\": discount,\n",
        "    \"Percentage\": percentage\n",
        "})\n",
        "print(f\"Revenue Dataframe: \\n{df}\")"
      ]
    }
  ]
}