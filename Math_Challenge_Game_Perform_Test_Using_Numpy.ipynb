{
  "nbformat": 4,
  "nbformat_minor": 0,
  "metadata": {
    "colab": {
      "provenance": [],
      "authorship_tag": "ABX9TyPuszO6UCeVRadC/EcltVRb",
      "include_colab_link": true
    },
    "kernelspec": {
      "name": "python3",
      "display_name": "Python 3"
    },
    "language_info": {
      "name": "python"
    }
  },
  "cells": [
    {
      "cell_type": "markdown",
      "metadata": {
        "id": "view-in-github",
        "colab_type": "text"
      },
      "source": [
        "<a href=\"https://colab.research.google.com/github/muskan628/Python-Projects/blob/main/Math_Challenge_Game_Perform_Test_Using_Numpy.ipynb\" target=\"_parent\"><img src=\"https://colab.research.google.com/assets/colab-badge.svg\" alt=\"Open In Colab\"/></a>"
      ]
    },
    {
      "cell_type": "code",
      "execution_count": 1,
      "metadata": {
        "colab": {
          "base_uri": "https://localhost:8080/"
        },
        "id": "5LWeJ1ySYbv5",
        "outputId": "71e965a0-3de8-496b-bd81-a7b50a2b7946"
      },
      "outputs": [
        {
          "output_type": "stream",
          "name": "stdout",
          "text": [
            "Math Challenge Game: Perform Test Using Numpy\n",
            "\n",
            "Puzzel1: Sum of large array\n",
            "Result: 49946.93261946294\n",
            "Time Taken: 0.00022\n",
            "\n",
            "Puzzel2: Subtraction of two large arrays\n",
            "First Five Elements: [ 0.32361647  0.03564618  0.54010969 -0.61894389 -0.04119722]\n",
            "Result: [ 0.32361647  0.03564618  0.54010969 ...  0.14930132 -0.04579911\n",
            "  0.08994214]\n",
            "Time Taken: 0.00289\n",
            "\n",
            "Puzzel3: Multiplication of 2 arrays\n",
            "First Five Elements: [0.3098381  0.09378458 0.15734091 0.117737   0.00113112]\n",
            "Result: [0.3098381  0.09378458 0.15734091 ... 0.55144585 0.62222581 0.23757369]\n",
            "Time Taken: 0.00136\n"
          ]
        }
      ],
      "source": [
        "import numpy as np\n",
        "import time\n",
        "\n",
        "print(\"Math Challenge Game: Perform Test Using Numpy\\n\")\n",
        "\n",
        "print(\"Puzzel1: Sum of large array\")\n",
        "puzzle1=np.random.rand(100000)\n",
        "start_time=time.time()\n",
        "sum=np.sum(puzzle1)\n",
        "end_time=time.time()\n",
        "elasped_time=end_time-start_time\n",
        "print(f\"Result: {sum}\")\n",
        "print(f\"Time Taken: {elasped_time:.5f}\")\n",
        "\n",
        "print(\"\\nPuzzel2: Subtraction of two large arrays\")\n",
        "arr1=np.random.rand(500000)\n",
        "arr2=np.random.rand(500000)\n",
        "start_time=time.time()\n",
        "result=arr1-arr2\n",
        "end_time=time.time()\n",
        "elasped_time=end_time-start_time\n",
        "print(f\"First Five Elements: {result[:5]}\")\n",
        "print(f\"Result: {result}\")\n",
        "print(f\"Time Taken: {elasped_time:.5f}\")\n",
        "\n",
        "print(\"\\nPuzzel3: Multiplication of 2 arrays\")\n",
        "arr1=np.random.rand(200000)\n",
        "arr2=np.random.rand(200000)\n",
        "start_time=time.time()\n",
        "result=arr1*arr2\n",
        "end_time=time.time()\n",
        "elasped_time=end_time-start_time\n",
        "print(f\"First Five Elements: {result[:5]}\")\n",
        "print(f\"Result: {result}\")\n",
        "print(f\"Time Taken: {elasped_time:.5f}\")\n"
      ]
    }
  ]
}